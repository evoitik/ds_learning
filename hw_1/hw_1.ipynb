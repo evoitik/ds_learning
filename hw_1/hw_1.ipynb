{
 "cells": [
  {
   "cell_type": "markdown",
   "id": "2cc3fc79",
   "metadata": {},
   "source": [
    "#### 3.\tСоздать словарь, содержащий информацию о студенте: имя, возраст, курс. Вывести всю информацию о студенте на экран"
   ]
  },
  {
   "cell_type": "code",
   "execution_count": 11,
   "id": "5b344b12",
   "metadata": {},
   "outputs": [
    {
     "name": "stdout",
     "output_type": "stream",
     "text": [
      "{'first_name': 'Иван', 'last_name': 'Иванов', 'age': 35, 'course': 'Data Sciense: Basics'}\n"
     ]
    }
   ],
   "source": [
    "dict_student = {\n",
    "    'first_name': 'Иван',\n",
    "    'last_name': 'Иванов', \n",
    "    'age': 35, \n",
    "    'course': 'Data Science: Basics'\n",
    "}\n",
    "\n",
    "print(dict_student)"
   ]
  },
  {
   "cell_type": "markdown",
   "id": "8c47d22e",
   "metadata": {},
   "source": [
    "### Complexity is O(1)"
   ]
  }
 ],
 "metadata": {
  "kernelspec": {
   "display_name": "Python 3",
   "language": "python",
   "name": "python3"
  },
  "language_info": {
   "codemirror_mode": {
    "name": "ipython",
    "version": 3
   },
   "file_extension": ".py",
   "mimetype": "text/x-python",
   "name": "python",
   "nbconvert_exporter": "python",
   "pygments_lexer": "ipython3",
   "version": "3.8.8"
  }
 },
 "nbformat": 4,
 "nbformat_minor": 5
}
